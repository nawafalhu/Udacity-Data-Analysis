{
 "cells": [
  {
   "cell_type": "markdown",
   "id": "7f028558",
   "metadata": {},
   "source": [
    "# Investigate a Dataset - Appointment Project"
   ]
  },
  {
   "cell_type": "markdown",
   "id": "21e2b46a",
   "metadata": {},
   "source": [
    "## Introduction\n"
   ]
  },
  {
   "cell_type": "code",
   "execution_count": 1,
   "id": "85af9afd",
   "metadata": {},
   "outputs": [],
   "source": [
    "import pandas as pd \n",
    "import numpy as np\n",
    "import matplotlib.pyplot as plt\n",
    "import seaborn as sb\n",
    "%matplotlib inline\n",
    "\n",
    "pd.set_option('display.max_colwidth', None)\n",
    "pd.set_option('display.max_columns', None)\n",
    "pd.set_option('display.max_rows', None)"
   ]
  },
  {
   "cell_type": "code",
   "execution_count": 2,
   "id": "4eec3d4f",
   "metadata": {},
   "outputs": [
    {
     "data": {
      "text/html": [
       "<div>\n",
       "<style scoped>\n",
       "    .dataframe tbody tr th:only-of-type {\n",
       "        vertical-align: middle;\n",
       "    }\n",
       "\n",
       "    .dataframe tbody tr th {\n",
       "        vertical-align: top;\n",
       "    }\n",
       "\n",
       "    .dataframe thead th {\n",
       "        text-align: right;\n",
       "    }\n",
       "</style>\n",
       "<table border=\"1\" class=\"dataframe\">\n",
       "  <thead>\n",
       "    <tr style=\"text-align: right;\">\n",
       "      <th></th>\n",
       "      <th>PatientId</th>\n",
       "      <th>AppointmentID</th>\n",
       "      <th>Gender</th>\n",
       "      <th>ScheduledDay</th>\n",
       "      <th>AppointmentDay</th>\n",
       "      <th>Age</th>\n",
       "      <th>Neighbourhood</th>\n",
       "      <th>Scholarship</th>\n",
       "      <th>Hipertension</th>\n",
       "      <th>Diabetes</th>\n",
       "      <th>Alcoholism</th>\n",
       "      <th>Handcap</th>\n",
       "      <th>SMS_received</th>\n",
       "      <th>No-show</th>\n",
       "    </tr>\n",
       "  </thead>\n",
       "  <tbody>\n",
       "    <tr>\n",
       "      <th>0</th>\n",
       "      <td>2.987250e+13</td>\n",
       "      <td>5642903</td>\n",
       "      <td>F</td>\n",
       "      <td>2016-04-29T18:38:08Z</td>\n",
       "      <td>2016-04-29T00:00:00Z</td>\n",
       "      <td>62</td>\n",
       "      <td>JARDIM DA PENHA</td>\n",
       "      <td>0</td>\n",
       "      <td>1</td>\n",
       "      <td>0</td>\n",
       "      <td>0</td>\n",
       "      <td>0</td>\n",
       "      <td>0</td>\n",
       "      <td>No</td>\n",
       "    </tr>\n",
       "    <tr>\n",
       "      <th>1</th>\n",
       "      <td>5.589978e+14</td>\n",
       "      <td>5642503</td>\n",
       "      <td>M</td>\n",
       "      <td>2016-04-29T16:08:27Z</td>\n",
       "      <td>2016-04-29T00:00:00Z</td>\n",
       "      <td>56</td>\n",
       "      <td>JARDIM DA PENHA</td>\n",
       "      <td>0</td>\n",
       "      <td>0</td>\n",
       "      <td>0</td>\n",
       "      <td>0</td>\n",
       "      <td>0</td>\n",
       "      <td>0</td>\n",
       "      <td>No</td>\n",
       "    </tr>\n",
       "    <tr>\n",
       "      <th>2</th>\n",
       "      <td>4.262962e+12</td>\n",
       "      <td>5642549</td>\n",
       "      <td>F</td>\n",
       "      <td>2016-04-29T16:19:04Z</td>\n",
       "      <td>2016-04-29T00:00:00Z</td>\n",
       "      <td>62</td>\n",
       "      <td>MATA DA PRAIA</td>\n",
       "      <td>0</td>\n",
       "      <td>0</td>\n",
       "      <td>0</td>\n",
       "      <td>0</td>\n",
       "      <td>0</td>\n",
       "      <td>0</td>\n",
       "      <td>No</td>\n",
       "    </tr>\n",
       "    <tr>\n",
       "      <th>3</th>\n",
       "      <td>8.679512e+11</td>\n",
       "      <td>5642828</td>\n",
       "      <td>F</td>\n",
       "      <td>2016-04-29T17:29:31Z</td>\n",
       "      <td>2016-04-29T00:00:00Z</td>\n",
       "      <td>8</td>\n",
       "      <td>PONTAL DE CAMBURI</td>\n",
       "      <td>0</td>\n",
       "      <td>0</td>\n",
       "      <td>0</td>\n",
       "      <td>0</td>\n",
       "      <td>0</td>\n",
       "      <td>0</td>\n",
       "      <td>No</td>\n",
       "    </tr>\n",
       "    <tr>\n",
       "      <th>4</th>\n",
       "      <td>8.841186e+12</td>\n",
       "      <td>5642494</td>\n",
       "      <td>F</td>\n",
       "      <td>2016-04-29T16:07:23Z</td>\n",
       "      <td>2016-04-29T00:00:00Z</td>\n",
       "      <td>56</td>\n",
       "      <td>JARDIM DA PENHA</td>\n",
       "      <td>0</td>\n",
       "      <td>1</td>\n",
       "      <td>1</td>\n",
       "      <td>0</td>\n",
       "      <td>0</td>\n",
       "      <td>0</td>\n",
       "      <td>No</td>\n",
       "    </tr>\n",
       "  </tbody>\n",
       "</table>\n",
       "</div>"
      ],
      "text/plain": [
       "      PatientId  AppointmentID Gender          ScheduledDay  \\\n",
       "0  2.987250e+13        5642903      F  2016-04-29T18:38:08Z   \n",
       "1  5.589978e+14        5642503      M  2016-04-29T16:08:27Z   \n",
       "2  4.262962e+12        5642549      F  2016-04-29T16:19:04Z   \n",
       "3  8.679512e+11        5642828      F  2016-04-29T17:29:31Z   \n",
       "4  8.841186e+12        5642494      F  2016-04-29T16:07:23Z   \n",
       "\n",
       "         AppointmentDay  Age      Neighbourhood  Scholarship  Hipertension  \\\n",
       "0  2016-04-29T00:00:00Z   62    JARDIM DA PENHA            0             1   \n",
       "1  2016-04-29T00:00:00Z   56    JARDIM DA PENHA            0             0   \n",
       "2  2016-04-29T00:00:00Z   62      MATA DA PRAIA            0             0   \n",
       "3  2016-04-29T00:00:00Z    8  PONTAL DE CAMBURI            0             0   \n",
       "4  2016-04-29T00:00:00Z   56    JARDIM DA PENHA            0             1   \n",
       "\n",
       "   Diabetes  Alcoholism  Handcap  SMS_received No-show  \n",
       "0         0           0        0             0      No  \n",
       "1         0           0        0             0      No  \n",
       "2         0           0        0             0      No  \n",
       "3         0           0        0             0      No  \n",
       "4         1           0        0             0      No  "
      ]
     },
     "execution_count": 2,
     "metadata": {},
     "output_type": "execute_result"
    }
   ],
   "source": [
    "df = pd.read_csv(\"appointment.csv\")\n",
    "df.head()"
   ]
  },
  {
   "cell_type": "code",
   "execution_count": 3,
   "id": "41831ae0",
   "metadata": {},
   "outputs": [
    {
     "data": {
      "text/plain": [
       "(110527, 14)"
      ]
     },
     "execution_count": 3,
     "metadata": {},
     "output_type": "execute_result"
    }
   ],
   "source": [
    "df.shape"
   ]
  },
  {
   "cell_type": "code",
   "execution_count": 4,
   "id": "0ddfc5be",
   "metadata": {},
   "outputs": [
    {
     "name": "stdout",
     "output_type": "stream",
     "text": [
      "<class 'pandas.core.frame.DataFrame'>\n",
      "RangeIndex: 110527 entries, 0 to 110526\n",
      "Data columns (total 14 columns):\n",
      " #   Column          Non-Null Count   Dtype  \n",
      "---  ------          --------------   -----  \n",
      " 0   PatientId       110527 non-null  float64\n",
      " 1   AppointmentID   110527 non-null  int64  \n",
      " 2   Gender          110527 non-null  object \n",
      " 3   ScheduledDay    110527 non-null  object \n",
      " 4   AppointmentDay  110527 non-null  object \n",
      " 5   Age             110527 non-null  int64  \n",
      " 6   Neighbourhood   110527 non-null  object \n",
      " 7   Scholarship     110527 non-null  int64  \n",
      " 8   Hipertension    110527 non-null  int64  \n",
      " 9   Diabetes        110527 non-null  int64  \n",
      " 10  Alcoholism      110527 non-null  int64  \n",
      " 11  Handcap         110527 non-null  int64  \n",
      " 12  SMS_received    110527 non-null  int64  \n",
      " 13  No-show         110527 non-null  object \n",
      "dtypes: float64(1), int64(8), object(5)\n",
      "memory usage: 11.8+ MB\n"
     ]
    }
   ],
   "source": [
    "df.info()"
   ]
  },
  {
   "cell_type": "code",
   "execution_count": 5,
   "id": "f68e50a6",
   "metadata": {},
   "outputs": [
    {
     "data": {
      "text/html": [
       "<div>\n",
       "<style scoped>\n",
       "    .dataframe tbody tr th:only-of-type {\n",
       "        vertical-align: middle;\n",
       "    }\n",
       "\n",
       "    .dataframe tbody tr th {\n",
       "        vertical-align: top;\n",
       "    }\n",
       "\n",
       "    .dataframe thead th {\n",
       "        text-align: right;\n",
       "    }\n",
       "</style>\n",
       "<table border=\"1\" class=\"dataframe\">\n",
       "  <thead>\n",
       "    <tr style=\"text-align: right;\">\n",
       "      <th></th>\n",
       "      <th>PatientId</th>\n",
       "      <th>AppointmentID</th>\n",
       "      <th>Age</th>\n",
       "      <th>Scholarship</th>\n",
       "      <th>Hipertension</th>\n",
       "      <th>Diabetes</th>\n",
       "      <th>Alcoholism</th>\n",
       "      <th>Handcap</th>\n",
       "      <th>SMS_received</th>\n",
       "    </tr>\n",
       "  </thead>\n",
       "  <tbody>\n",
       "    <tr>\n",
       "      <th>count</th>\n",
       "      <td>1.105270e+05</td>\n",
       "      <td>1.105270e+05</td>\n",
       "      <td>110527.000000</td>\n",
       "      <td>110527.000000</td>\n",
       "      <td>110527.000000</td>\n",
       "      <td>110527.000000</td>\n",
       "      <td>110527.000000</td>\n",
       "      <td>110527.000000</td>\n",
       "      <td>110527.000000</td>\n",
       "    </tr>\n",
       "    <tr>\n",
       "      <th>mean</th>\n",
       "      <td>1.474963e+14</td>\n",
       "      <td>5.675305e+06</td>\n",
       "      <td>37.088874</td>\n",
       "      <td>0.098266</td>\n",
       "      <td>0.197246</td>\n",
       "      <td>0.071865</td>\n",
       "      <td>0.030400</td>\n",
       "      <td>0.022248</td>\n",
       "      <td>0.321026</td>\n",
       "    </tr>\n",
       "    <tr>\n",
       "      <th>std</th>\n",
       "      <td>2.560949e+14</td>\n",
       "      <td>7.129575e+04</td>\n",
       "      <td>23.110205</td>\n",
       "      <td>0.297675</td>\n",
       "      <td>0.397921</td>\n",
       "      <td>0.258265</td>\n",
       "      <td>0.171686</td>\n",
       "      <td>0.161543</td>\n",
       "      <td>0.466873</td>\n",
       "    </tr>\n",
       "    <tr>\n",
       "      <th>min</th>\n",
       "      <td>3.921784e+04</td>\n",
       "      <td>5.030230e+06</td>\n",
       "      <td>-1.000000</td>\n",
       "      <td>0.000000</td>\n",
       "      <td>0.000000</td>\n",
       "      <td>0.000000</td>\n",
       "      <td>0.000000</td>\n",
       "      <td>0.000000</td>\n",
       "      <td>0.000000</td>\n",
       "    </tr>\n",
       "    <tr>\n",
       "      <th>25%</th>\n",
       "      <td>4.172614e+12</td>\n",
       "      <td>5.640286e+06</td>\n",
       "      <td>18.000000</td>\n",
       "      <td>0.000000</td>\n",
       "      <td>0.000000</td>\n",
       "      <td>0.000000</td>\n",
       "      <td>0.000000</td>\n",
       "      <td>0.000000</td>\n",
       "      <td>0.000000</td>\n",
       "    </tr>\n",
       "    <tr>\n",
       "      <th>50%</th>\n",
       "      <td>3.173184e+13</td>\n",
       "      <td>5.680573e+06</td>\n",
       "      <td>37.000000</td>\n",
       "      <td>0.000000</td>\n",
       "      <td>0.000000</td>\n",
       "      <td>0.000000</td>\n",
       "      <td>0.000000</td>\n",
       "      <td>0.000000</td>\n",
       "      <td>0.000000</td>\n",
       "    </tr>\n",
       "    <tr>\n",
       "      <th>75%</th>\n",
       "      <td>9.439172e+13</td>\n",
       "      <td>5.725524e+06</td>\n",
       "      <td>55.000000</td>\n",
       "      <td>0.000000</td>\n",
       "      <td>0.000000</td>\n",
       "      <td>0.000000</td>\n",
       "      <td>0.000000</td>\n",
       "      <td>0.000000</td>\n",
       "      <td>1.000000</td>\n",
       "    </tr>\n",
       "    <tr>\n",
       "      <th>max</th>\n",
       "      <td>9.999816e+14</td>\n",
       "      <td>5.790484e+06</td>\n",
       "      <td>115.000000</td>\n",
       "      <td>1.000000</td>\n",
       "      <td>1.000000</td>\n",
       "      <td>1.000000</td>\n",
       "      <td>1.000000</td>\n",
       "      <td>4.000000</td>\n",
       "      <td>1.000000</td>\n",
       "    </tr>\n",
       "  </tbody>\n",
       "</table>\n",
       "</div>"
      ],
      "text/plain": [
       "          PatientId  AppointmentID            Age    Scholarship  \\\n",
       "count  1.105270e+05   1.105270e+05  110527.000000  110527.000000   \n",
       "mean   1.474963e+14   5.675305e+06      37.088874       0.098266   \n",
       "std    2.560949e+14   7.129575e+04      23.110205       0.297675   \n",
       "min    3.921784e+04   5.030230e+06      -1.000000       0.000000   \n",
       "25%    4.172614e+12   5.640286e+06      18.000000       0.000000   \n",
       "50%    3.173184e+13   5.680573e+06      37.000000       0.000000   \n",
       "75%    9.439172e+13   5.725524e+06      55.000000       0.000000   \n",
       "max    9.999816e+14   5.790484e+06     115.000000       1.000000   \n",
       "\n",
       "        Hipertension       Diabetes     Alcoholism        Handcap  \\\n",
       "count  110527.000000  110527.000000  110527.000000  110527.000000   \n",
       "mean        0.197246       0.071865       0.030400       0.022248   \n",
       "std         0.397921       0.258265       0.171686       0.161543   \n",
       "min         0.000000       0.000000       0.000000       0.000000   \n",
       "25%         0.000000       0.000000       0.000000       0.000000   \n",
       "50%         0.000000       0.000000       0.000000       0.000000   \n",
       "75%         0.000000       0.000000       0.000000       0.000000   \n",
       "max         1.000000       1.000000       1.000000       4.000000   \n",
       "\n",
       "        SMS_received  \n",
       "count  110527.000000  \n",
       "mean        0.321026  \n",
       "std         0.466873  \n",
       "min         0.000000  \n",
       "25%         0.000000  \n",
       "50%         0.000000  \n",
       "75%         1.000000  \n",
       "max         1.000000  "
      ]
     },
     "execution_count": 5,
     "metadata": {},
     "output_type": "execute_result"
    }
   ],
   "source": [
    "df.describe()"
   ]
  },
  {
   "cell_type": "code",
   "execution_count": 6,
   "id": "a6b93a62",
   "metadata": {},
   "outputs": [
    {
     "data": {
      "text/html": [
       "<div>\n",
       "<style scoped>\n",
       "    .dataframe tbody tr th:only-of-type {\n",
       "        vertical-align: middle;\n",
       "    }\n",
       "\n",
       "    .dataframe tbody tr th {\n",
       "        vertical-align: top;\n",
       "    }\n",
       "\n",
       "    .dataframe thead th {\n",
       "        text-align: right;\n",
       "    }\n",
       "</style>\n",
       "<table border=\"1\" class=\"dataframe\">\n",
       "  <thead>\n",
       "    <tr style=\"text-align: right;\">\n",
       "      <th></th>\n",
       "      <th>PatientId</th>\n",
       "      <th>AppointmentID</th>\n",
       "      <th>Gender</th>\n",
       "      <th>ScheduledDay</th>\n",
       "      <th>AppointmentDay</th>\n",
       "      <th>Age</th>\n",
       "      <th>Neighbourhood</th>\n",
       "      <th>Scholarship</th>\n",
       "      <th>Hipertension</th>\n",
       "      <th>Diabetes</th>\n",
       "      <th>Alcoholism</th>\n",
       "      <th>Handcap</th>\n",
       "      <th>SMS_received</th>\n",
       "      <th>No-show</th>\n",
       "    </tr>\n",
       "  </thead>\n",
       "  <tbody>\n",
       "    <tr>\n",
       "      <th>44508</th>\n",
       "      <td>1.314565e+13</td>\n",
       "      <td>5635446</td>\n",
       "      <td>F</td>\n",
       "      <td>2016-04-28T13:31:17Z</td>\n",
       "      <td>2016-05-02T00:00:00Z</td>\n",
       "      <td>12</td>\n",
       "      <td>REPÚBLICA</td>\n",
       "      <td>0</td>\n",
       "      <td>0</td>\n",
       "      <td>0</td>\n",
       "      <td>0</td>\n",
       "      <td>0</td>\n",
       "      <td>1</td>\n",
       "      <td>No</td>\n",
       "    </tr>\n",
       "    <tr>\n",
       "      <th>61372</th>\n",
       "      <td>9.121796e+14</td>\n",
       "      <td>5683531</td>\n",
       "      <td>F</td>\n",
       "      <td>2016-05-11T07:36:30Z</td>\n",
       "      <td>2016-05-11T00:00:00Z</td>\n",
       "      <td>20</td>\n",
       "      <td>CONSOLAÇÃO</td>\n",
       "      <td>0</td>\n",
       "      <td>0</td>\n",
       "      <td>0</td>\n",
       "      <td>0</td>\n",
       "      <td>0</td>\n",
       "      <td>0</td>\n",
       "      <td>No</td>\n",
       "    </tr>\n",
       "    <tr>\n",
       "      <th>28802</th>\n",
       "      <td>8.933537e+12</td>\n",
       "      <td>5646338</td>\n",
       "      <td>M</td>\n",
       "      <td>2016-05-02T11:15:47Z</td>\n",
       "      <td>2016-05-02T00:00:00Z</td>\n",
       "      <td>2</td>\n",
       "      <td>ROMÃO</td>\n",
       "      <td>0</td>\n",
       "      <td>0</td>\n",
       "      <td>0</td>\n",
       "      <td>0</td>\n",
       "      <td>0</td>\n",
       "      <td>0</td>\n",
       "      <td>No</td>\n",
       "    </tr>\n",
       "    <tr>\n",
       "      <th>64365</th>\n",
       "      <td>8.463263e+13</td>\n",
       "      <td>5687904</td>\n",
       "      <td>F</td>\n",
       "      <td>2016-05-11T17:11:21Z</td>\n",
       "      <td>2016-05-17T00:00:00Z</td>\n",
       "      <td>43</td>\n",
       "      <td>JARDIM CAMBURI</td>\n",
       "      <td>0</td>\n",
       "      <td>1</td>\n",
       "      <td>0</td>\n",
       "      <td>0</td>\n",
       "      <td>0</td>\n",
       "      <td>0</td>\n",
       "      <td>No</td>\n",
       "    </tr>\n",
       "    <tr>\n",
       "      <th>105384</th>\n",
       "      <td>3.573911e+13</td>\n",
       "      <td>5786791</td>\n",
       "      <td>F</td>\n",
       "      <td>2016-06-08T08:54:22Z</td>\n",
       "      <td>2016-06-08T00:00:00Z</td>\n",
       "      <td>47</td>\n",
       "      <td>ROMÃO</td>\n",
       "      <td>0</td>\n",
       "      <td>0</td>\n",
       "      <td>0</td>\n",
       "      <td>0</td>\n",
       "      <td>0</td>\n",
       "      <td>0</td>\n",
       "      <td>No</td>\n",
       "    </tr>\n",
       "    <tr>\n",
       "      <th>32238</th>\n",
       "      <td>8.526156e+12</td>\n",
       "      <td>5691292</td>\n",
       "      <td>M</td>\n",
       "      <td>2016-05-12T11:58:15Z</td>\n",
       "      <td>2016-05-12T00:00:00Z</td>\n",
       "      <td>28</td>\n",
       "      <td>MARIA ORTIZ</td>\n",
       "      <td>0</td>\n",
       "      <td>0</td>\n",
       "      <td>0</td>\n",
       "      <td>0</td>\n",
       "      <td>0</td>\n",
       "      <td>0</td>\n",
       "      <td>No</td>\n",
       "    </tr>\n",
       "    <tr>\n",
       "      <th>74540</th>\n",
       "      <td>4.333485e+14</td>\n",
       "      <td>5719756</td>\n",
       "      <td>M</td>\n",
       "      <td>2016-05-19T11:58:23Z</td>\n",
       "      <td>2016-05-25T00:00:00Z</td>\n",
       "      <td>21</td>\n",
       "      <td>JARDIM CAMBURI</td>\n",
       "      <td>0</td>\n",
       "      <td>0</td>\n",
       "      <td>0</td>\n",
       "      <td>0</td>\n",
       "      <td>0</td>\n",
       "      <td>1</td>\n",
       "      <td>Yes</td>\n",
       "    </tr>\n",
       "    <tr>\n",
       "      <th>90212</th>\n",
       "      <td>4.616262e+13</td>\n",
       "      <td>5789754</td>\n",
       "      <td>F</td>\n",
       "      <td>2016-06-08T15:42:00Z</td>\n",
       "      <td>2016-06-08T00:00:00Z</td>\n",
       "      <td>35</td>\n",
       "      <td>BONFIM</td>\n",
       "      <td>0</td>\n",
       "      <td>0</td>\n",
       "      <td>0</td>\n",
       "      <td>0</td>\n",
       "      <td>0</td>\n",
       "      <td>0</td>\n",
       "      <td>No</td>\n",
       "    </tr>\n",
       "  </tbody>\n",
       "</table>\n",
       "</div>"
      ],
      "text/plain": [
       "           PatientId  AppointmentID Gender          ScheduledDay  \\\n",
       "44508   1.314565e+13        5635446      F  2016-04-28T13:31:17Z   \n",
       "61372   9.121796e+14        5683531      F  2016-05-11T07:36:30Z   \n",
       "28802   8.933537e+12        5646338      M  2016-05-02T11:15:47Z   \n",
       "64365   8.463263e+13        5687904      F  2016-05-11T17:11:21Z   \n",
       "105384  3.573911e+13        5786791      F  2016-06-08T08:54:22Z   \n",
       "32238   8.526156e+12        5691292      M  2016-05-12T11:58:15Z   \n",
       "74540   4.333485e+14        5719756      M  2016-05-19T11:58:23Z   \n",
       "90212   4.616262e+13        5789754      F  2016-06-08T15:42:00Z   \n",
       "\n",
       "              AppointmentDay  Age   Neighbourhood  Scholarship  Hipertension  \\\n",
       "44508   2016-05-02T00:00:00Z   12       REPÚBLICA            0             0   \n",
       "61372   2016-05-11T00:00:00Z   20      CONSOLAÇÃO            0             0   \n",
       "28802   2016-05-02T00:00:00Z    2           ROMÃO            0             0   \n",
       "64365   2016-05-17T00:00:00Z   43  JARDIM CAMBURI            0             1   \n",
       "105384  2016-06-08T00:00:00Z   47           ROMÃO            0             0   \n",
       "32238   2016-05-12T00:00:00Z   28     MARIA ORTIZ            0             0   \n",
       "74540   2016-05-25T00:00:00Z   21  JARDIM CAMBURI            0             0   \n",
       "90212   2016-06-08T00:00:00Z   35          BONFIM            0             0   \n",
       "\n",
       "        Diabetes  Alcoholism  Handcap  SMS_received No-show  \n",
       "44508          0           0        0             1      No  \n",
       "61372          0           0        0             0      No  \n",
       "28802          0           0        0             0      No  \n",
       "64365          0           0        0             0      No  \n",
       "105384         0           0        0             0      No  \n",
       "32238          0           0        0             0      No  \n",
       "74540          0           0        0             1     Yes  \n",
       "90212          0           0        0             0      No  "
      ]
     },
     "execution_count": 6,
     "metadata": {},
     "output_type": "execute_result"
    }
   ],
   "source": [
    "df.sample(8)"
   ]
  },
  {
   "cell_type": "code",
   "execution_count": 7,
   "id": "0ce08a32",
   "metadata": {},
   "outputs": [
    {
     "data": {
      "text/html": [
       "<div>\n",
       "<style scoped>\n",
       "    .dataframe tbody tr th:only-of-type {\n",
       "        vertical-align: middle;\n",
       "    }\n",
       "\n",
       "    .dataframe tbody tr th {\n",
       "        vertical-align: top;\n",
       "    }\n",
       "\n",
       "    .dataframe thead th {\n",
       "        text-align: right;\n",
       "    }\n",
       "</style>\n",
       "<table border=\"1\" class=\"dataframe\">\n",
       "  <thead>\n",
       "    <tr style=\"text-align: right;\">\n",
       "      <th></th>\n",
       "      <th>PatientId</th>\n",
       "      <th>AppointmentID</th>\n",
       "      <th>Gender</th>\n",
       "      <th>ScheduledDay</th>\n",
       "      <th>AppointmentDay</th>\n",
       "      <th>Age</th>\n",
       "      <th>Neighbourhood</th>\n",
       "      <th>Scholarship</th>\n",
       "      <th>Hipertension</th>\n",
       "      <th>Diabetes</th>\n",
       "      <th>Alcoholism</th>\n",
       "      <th>Handcap</th>\n",
       "      <th>SMS_received</th>\n",
       "      <th>No-show</th>\n",
       "    </tr>\n",
       "  </thead>\n",
       "  <tbody>\n",
       "    <tr>\n",
       "      <th>99832</th>\n",
       "      <td>4.659432e+14</td>\n",
       "      <td>5775010</td>\n",
       "      <td>F</td>\n",
       "      <td>2016-06-06T08:58:13Z</td>\n",
       "      <td>2016-06-06T00:00:00Z</td>\n",
       "      <td>-1</td>\n",
       "      <td>ROMÃO</td>\n",
       "      <td>0</td>\n",
       "      <td>0</td>\n",
       "      <td>0</td>\n",
       "      <td>0</td>\n",
       "      <td>0</td>\n",
       "      <td>0</td>\n",
       "      <td>No</td>\n",
       "    </tr>\n",
       "  </tbody>\n",
       "</table>\n",
       "</div>"
      ],
      "text/plain": [
       "          PatientId  AppointmentID Gender          ScheduledDay  \\\n",
       "99832  4.659432e+14        5775010      F  2016-06-06T08:58:13Z   \n",
       "\n",
       "             AppointmentDay  Age Neighbourhood  Scholarship  Hipertension  \\\n",
       "99832  2016-06-06T00:00:00Z   -1         ROMÃO            0             0   \n",
       "\n",
       "       Diabetes  Alcoholism  Handcap  SMS_received No-show  \n",
       "99832         0           0        0             0      No  "
      ]
     },
     "execution_count": 7,
     "metadata": {},
     "output_type": "execute_result"
    }
   ],
   "source": [
    "# to see why there is a negative value in the age column\n",
    "df[df['Age'] < 0]"
   ]
  },
  {
   "cell_type": "code",
   "execution_count": 8,
   "id": "e1eccd13",
   "metadata": {},
   "outputs": [
    {
     "data": {
      "text/plain": [
       "417"
      ]
     },
     "execution_count": 8,
     "metadata": {},
     "output_type": "execute_result"
    }
   ],
   "source": [
    "# there is \n",
    "df[df['Handcap'] > 1]['Handcap'].sum()"
   ]
  },
  {
   "cell_type": "code",
   "execution_count": 9,
   "id": "af61bcbb",
   "metadata": {},
   "outputs": [
    {
     "data": {
      "text/plain": [
       "PatientId         0\n",
       "AppointmentID     0\n",
       "Gender            0\n",
       "ScheduledDay      0\n",
       "AppointmentDay    0\n",
       "Age               0\n",
       "Neighbourhood     0\n",
       "Scholarship       0\n",
       "Hipertension      0\n",
       "Diabetes          0\n",
       "Alcoholism        0\n",
       "Handcap           0\n",
       "SMS_received      0\n",
       "No-show           0\n",
       "dtype: int64"
      ]
     },
     "execution_count": 9,
     "metadata": {},
     "output_type": "execute_result"
    }
   ],
   "source": [
    "# to check there is a null value or not\n",
    "df.isnull().sum()"
   ]
  },
  {
   "cell_type": "code",
   "execution_count": 10,
   "id": "f008e236",
   "metadata": {},
   "outputs": [
    {
     "data": {
      "text/plain": [
       "0"
      ]
     },
     "execution_count": 10,
     "metadata": {},
     "output_type": "execute_result"
    }
   ],
   "source": [
    "# check if we have a duplicate value\n",
    "df.duplicated().sum()"
   ]
  },
  {
   "cell_type": "code",
   "execution_count": 11,
   "id": "aaf45593",
   "metadata": {},
   "outputs": [
    {
     "data": {
      "text/html": [
       "<div>\n",
       "<style scoped>\n",
       "    .dataframe tbody tr th:only-of-type {\n",
       "        vertical-align: middle;\n",
       "    }\n",
       "\n",
       "    .dataframe tbody tr th {\n",
       "        vertical-align: top;\n",
       "    }\n",
       "\n",
       "    .dataframe thead th {\n",
       "        text-align: right;\n",
       "    }\n",
       "</style>\n",
       "<table border=\"1\" class=\"dataframe\">\n",
       "  <thead>\n",
       "    <tr style=\"text-align: right;\">\n",
       "      <th></th>\n",
       "      <th>PatientId</th>\n",
       "      <th>AppointmentID</th>\n",
       "      <th>Gender</th>\n",
       "      <th>ScheduledDay</th>\n",
       "      <th>AppointmentDay</th>\n",
       "      <th>Age</th>\n",
       "      <th>Neighbourhood</th>\n",
       "      <th>Scholarship</th>\n",
       "      <th>Hipertension</th>\n",
       "      <th>Diabetes</th>\n",
       "      <th>Alcoholism</th>\n",
       "      <th>Handcap</th>\n",
       "      <th>SMSReceived</th>\n",
       "      <th>NoShow</th>\n",
       "    </tr>\n",
       "  </thead>\n",
       "  <tbody>\n",
       "    <tr>\n",
       "      <th>0</th>\n",
       "      <td>2.987250e+13</td>\n",
       "      <td>5642903</td>\n",
       "      <td>F</td>\n",
       "      <td>2016-04-29T18:38:08Z</td>\n",
       "      <td>2016-04-29T00:00:00Z</td>\n",
       "      <td>62</td>\n",
       "      <td>JARDIM DA PENHA</td>\n",
       "      <td>0</td>\n",
       "      <td>1</td>\n",
       "      <td>0</td>\n",
       "      <td>0</td>\n",
       "      <td>0</td>\n",
       "      <td>0</td>\n",
       "      <td>No</td>\n",
       "    </tr>\n",
       "    <tr>\n",
       "      <th>1</th>\n",
       "      <td>5.589978e+14</td>\n",
       "      <td>5642503</td>\n",
       "      <td>M</td>\n",
       "      <td>2016-04-29T16:08:27Z</td>\n",
       "      <td>2016-04-29T00:00:00Z</td>\n",
       "      <td>56</td>\n",
       "      <td>JARDIM DA PENHA</td>\n",
       "      <td>0</td>\n",
       "      <td>0</td>\n",
       "      <td>0</td>\n",
       "      <td>0</td>\n",
       "      <td>0</td>\n",
       "      <td>0</td>\n",
       "      <td>No</td>\n",
       "    </tr>\n",
       "  </tbody>\n",
       "</table>\n",
       "</div>"
      ],
      "text/plain": [
       "      PatientId  AppointmentID Gender          ScheduledDay  \\\n",
       "0  2.987250e+13        5642903      F  2016-04-29T18:38:08Z   \n",
       "1  5.589978e+14        5642503      M  2016-04-29T16:08:27Z   \n",
       "\n",
       "         AppointmentDay  Age    Neighbourhood  Scholarship  Hipertension  \\\n",
       "0  2016-04-29T00:00:00Z   62  JARDIM DA PENHA            0             1   \n",
       "1  2016-04-29T00:00:00Z   56  JARDIM DA PENHA            0             0   \n",
       "\n",
       "   Diabetes  Alcoholism  Handcap  SMSReceived NoShow  \n",
       "0         0           0        0            0     No  \n",
       "1         0           0        0            0     No  "
      ]
     },
     "execution_count": 11,
     "metadata": {},
     "output_type": "execute_result"
    }
   ],
   "source": [
    "# rename the two column to remove the \"-\"\n",
    "df.rename(columns={\"SMS_received\" : \"SMSReceived\", \"No-show\" : \"NoShow\"}, inplace=True)\n",
    "df.head(2)"
   ]
  },
  {
   "cell_type": "code",
   "execution_count": 12,
   "id": "0e132aa4",
   "metadata": {},
   "outputs": [
    {
     "data": {
      "text/html": [
       "<div>\n",
       "<style scoped>\n",
       "    .dataframe tbody tr th:only-of-type {\n",
       "        vertical-align: middle;\n",
       "    }\n",
       "\n",
       "    .dataframe tbody tr th {\n",
       "        vertical-align: top;\n",
       "    }\n",
       "\n",
       "    .dataframe thead th {\n",
       "        text-align: right;\n",
       "    }\n",
       "</style>\n",
       "<table border=\"1\" class=\"dataframe\">\n",
       "  <thead>\n",
       "    <tr style=\"text-align: right;\">\n",
       "      <th></th>\n",
       "      <th>PatientId</th>\n",
       "      <th>AppointmentID</th>\n",
       "      <th>Gender</th>\n",
       "      <th>ScheduledDay</th>\n",
       "      <th>AppointmentDay</th>\n",
       "      <th>Age</th>\n",
       "      <th>Neighbourhood</th>\n",
       "      <th>Scholarship</th>\n",
       "      <th>Hipertension</th>\n",
       "      <th>Diabetes</th>\n",
       "      <th>Alcoholism</th>\n",
       "      <th>Handcap</th>\n",
       "      <th>SMSReceived</th>\n",
       "      <th>NoShow</th>\n",
       "    </tr>\n",
       "  </thead>\n",
       "  <tbody>\n",
       "  </tbody>\n",
       "</table>\n",
       "</div>"
      ],
      "text/plain": [
       "Empty DataFrame\n",
       "Columns: [PatientId, AppointmentID, Gender, ScheduledDay, AppointmentDay, Age, Neighbourhood, Scholarship, Hipertension, Diabetes, Alcoholism, Handcap, SMSReceived, NoShow]\n",
       "Index: []"
      ]
     },
     "execution_count": 12,
     "metadata": {},
     "output_type": "execute_result"
    }
   ],
   "source": [
    "df.drop(df[df['Age'] < 0].index,  inplace=True)\n",
    "df[df['Age'] < 0]"
   ]
  },
  {
   "cell_type": "code",
   "execution_count": 13,
   "id": "c4a8793c",
   "metadata": {},
   "outputs": [
    {
     "data": {
      "text/plain": [
       "PatientId                     float64\n",
       "AppointmentID                   int64\n",
       "Gender                         object\n",
       "ScheduledDay      datetime64[ns, UTC]\n",
       "AppointmentDay    datetime64[ns, UTC]\n",
       "Age                             int64\n",
       "Neighbourhood                  object\n",
       "Scholarship                     int64\n",
       "Hipertension                    int64\n",
       "Diabetes                        int64\n",
       "Alcoholism                      int64\n",
       "Handcap                         int64\n",
       "SMSReceived                     int64\n",
       "NoShow                         object\n",
       "dtype: object"
      ]
     },
     "execution_count": 13,
     "metadata": {},
     "output_type": "execute_result"
    }
   ],
   "source": [
    "df[\"ScheduledDay\"] = pd.to_datetime(df[\"ScheduledDay\"])\n",
    "df[\"AppointmentDay\"] = pd.to_datetime(df[\"AppointmentDay\"])\n",
    "df.dtypes"
   ]
  },
  {
   "cell_type": "code",
   "execution_count": 14,
   "id": "2f57baa7",
   "metadata": {},
   "outputs": [
    {
     "data": {
      "text/plain": [
       "PatientId                     float64\n",
       "AppointmentID                   int64\n",
       "Gender                       category\n",
       "ScheduledDay      datetime64[ns, UTC]\n",
       "AppointmentDay    datetime64[ns, UTC]\n",
       "Age                             int64\n",
       "Neighbourhood                category\n",
       "Scholarship                     int64\n",
       "Hipertension                    int64\n",
       "Diabetes                        int64\n",
       "Alcoholism                      int64\n",
       "Handcap                      category\n",
       "SMSReceived                     int64\n",
       "NoShow                         object\n",
       "dtype: object"
      ]
     },
     "execution_count": 14,
     "metadata": {},
     "output_type": "execute_result"
    }
   ],
   "source": [
    "df[\"Gender\"] = df[\"Gender\"].astype('category')\n",
    "df[\"Neighbourhood\"] = df[\"Neighbourhood\"].astype('category')\n",
    "df[\"Handcap\"] = df[\"Handcap\"].astype('category')\n",
    "df.dtypes"
   ]
  },
  {
   "cell_type": "code",
   "execution_count": 15,
   "id": "c7436295",
   "metadata": {},
   "outputs": [
    {
     "data": {
      "text/plain": [
       "PatientId                     float64\n",
       "AppointmentID                   int64\n",
       "Gender                       category\n",
       "ScheduledDay      datetime64[ns, UTC]\n",
       "AppointmentDay    datetime64[ns, UTC]\n",
       "Age                             int64\n",
       "Neighbourhood                category\n",
       "Scholarship                      bool\n",
       "Hipertension                     bool\n",
       "Diabetes                         bool\n",
       "Alcoholism                       bool\n",
       "Handcap                      category\n",
       "SMSReceived                      bool\n",
       "NoShow                         object\n",
       "dtype: object"
      ]
     },
     "execution_count": 15,
     "metadata": {},
     "output_type": "execute_result"
    }
   ],
   "source": [
    "df[\"Scholarship\"] = df[\"Scholarship\"].astype('bool')\n",
    "df[\"Hipertension\"] = df[\"Hipertension\"].astype('bool')\n",
    "df[\"Diabetes\"] = df[\"Diabetes\"].astype('bool')\n",
    "df[\"Alcoholism\"] = df[\"Alcoholism\"].astype('bool')\n",
    "df[\"SMSReceived\"] = df[\"SMSReceived\"].astype('bool')\n",
    "df.dtypes"
   ]
  },
  {
   "cell_type": "code",
   "execution_count": 16,
   "id": "fa5d8d7e",
   "metadata": {},
   "outputs": [],
   "source": [
    "df['NoShow'].replace({'No': 0, 'Yes': 1}, inplace=True)\n",
    "df[\"NoShow\"] = df[\"NoShow\"].astype('bool')"
   ]
  },
  {
   "cell_type": "code",
   "execution_count": 17,
   "id": "481ef4ca",
   "metadata": {},
   "outputs": [
    {
     "data": {
      "text/html": [
       "<div>\n",
       "<style scoped>\n",
       "    .dataframe tbody tr th:only-of-type {\n",
       "        vertical-align: middle;\n",
       "    }\n",
       "\n",
       "    .dataframe tbody tr th {\n",
       "        vertical-align: top;\n",
       "    }\n",
       "\n",
       "    .dataframe thead th {\n",
       "        text-align: right;\n",
       "    }\n",
       "</style>\n",
       "<table border=\"1\" class=\"dataframe\">\n",
       "  <thead>\n",
       "    <tr style=\"text-align: right;\">\n",
       "      <th></th>\n",
       "      <th>PatientId</th>\n",
       "      <th>AppointmentID</th>\n",
       "      <th>Gender</th>\n",
       "      <th>ScheduledDay</th>\n",
       "      <th>AppointmentDay</th>\n",
       "      <th>Age</th>\n",
       "      <th>Neighbourhood</th>\n",
       "      <th>Scholarship</th>\n",
       "      <th>Hipertension</th>\n",
       "      <th>Diabetes</th>\n",
       "      <th>Alcoholism</th>\n",
       "      <th>Handcap</th>\n",
       "      <th>SMSReceived</th>\n",
       "      <th>NoShow</th>\n",
       "    </tr>\n",
       "  </thead>\n",
       "  <tbody>\n",
       "    <tr>\n",
       "      <th>0</th>\n",
       "      <td>2.987250e+13</td>\n",
       "      <td>5642903</td>\n",
       "      <td>F</td>\n",
       "      <td>2016-04-29 18:38:08+00:00</td>\n",
       "      <td>2016-04-29 00:00:00+00:00</td>\n",
       "      <td>62</td>\n",
       "      <td>JARDIM DA PENHA</td>\n",
       "      <td>False</td>\n",
       "      <td>True</td>\n",
       "      <td>False</td>\n",
       "      <td>False</td>\n",
       "      <td>0</td>\n",
       "      <td>False</td>\n",
       "      <td>False</td>\n",
       "    </tr>\n",
       "    <tr>\n",
       "      <th>1</th>\n",
       "      <td>5.589978e+14</td>\n",
       "      <td>5642503</td>\n",
       "      <td>M</td>\n",
       "      <td>2016-04-29 16:08:27+00:00</td>\n",
       "      <td>2016-04-29 00:00:00+00:00</td>\n",
       "      <td>56</td>\n",
       "      <td>JARDIM DA PENHA</td>\n",
       "      <td>False</td>\n",
       "      <td>False</td>\n",
       "      <td>False</td>\n",
       "      <td>False</td>\n",
       "      <td>0</td>\n",
       "      <td>False</td>\n",
       "      <td>False</td>\n",
       "    </tr>\n",
       "    <tr>\n",
       "      <th>2</th>\n",
       "      <td>4.262962e+12</td>\n",
       "      <td>5642549</td>\n",
       "      <td>F</td>\n",
       "      <td>2016-04-29 16:19:04+00:00</td>\n",
       "      <td>2016-04-29 00:00:00+00:00</td>\n",
       "      <td>62</td>\n",
       "      <td>MATA DA PRAIA</td>\n",
       "      <td>False</td>\n",
       "      <td>False</td>\n",
       "      <td>False</td>\n",
       "      <td>False</td>\n",
       "      <td>0</td>\n",
       "      <td>False</td>\n",
       "      <td>False</td>\n",
       "    </tr>\n",
       "    <tr>\n",
       "      <th>3</th>\n",
       "      <td>8.679512e+11</td>\n",
       "      <td>5642828</td>\n",
       "      <td>F</td>\n",
       "      <td>2016-04-29 17:29:31+00:00</td>\n",
       "      <td>2016-04-29 00:00:00+00:00</td>\n",
       "      <td>8</td>\n",
       "      <td>PONTAL DE CAMBURI</td>\n",
       "      <td>False</td>\n",
       "      <td>False</td>\n",
       "      <td>False</td>\n",
       "      <td>False</td>\n",
       "      <td>0</td>\n",
       "      <td>False</td>\n",
       "      <td>False</td>\n",
       "    </tr>\n",
       "    <tr>\n",
       "      <th>4</th>\n",
       "      <td>8.841186e+12</td>\n",
       "      <td>5642494</td>\n",
       "      <td>F</td>\n",
       "      <td>2016-04-29 16:07:23+00:00</td>\n",
       "      <td>2016-04-29 00:00:00+00:00</td>\n",
       "      <td>56</td>\n",
       "      <td>JARDIM DA PENHA</td>\n",
       "      <td>False</td>\n",
       "      <td>True</td>\n",
       "      <td>True</td>\n",
       "      <td>False</td>\n",
       "      <td>0</td>\n",
       "      <td>False</td>\n",
       "      <td>False</td>\n",
       "    </tr>\n",
       "  </tbody>\n",
       "</table>\n",
       "</div>"
      ],
      "text/plain": [
       "      PatientId  AppointmentID Gender              ScheduledDay  \\\n",
       "0  2.987250e+13        5642903      F 2016-04-29 18:38:08+00:00   \n",
       "1  5.589978e+14        5642503      M 2016-04-29 16:08:27+00:00   \n",
       "2  4.262962e+12        5642549      F 2016-04-29 16:19:04+00:00   \n",
       "3  8.679512e+11        5642828      F 2016-04-29 17:29:31+00:00   \n",
       "4  8.841186e+12        5642494      F 2016-04-29 16:07:23+00:00   \n",
       "\n",
       "             AppointmentDay  Age      Neighbourhood  Scholarship  \\\n",
       "0 2016-04-29 00:00:00+00:00   62    JARDIM DA PENHA        False   \n",
       "1 2016-04-29 00:00:00+00:00   56    JARDIM DA PENHA        False   \n",
       "2 2016-04-29 00:00:00+00:00   62      MATA DA PRAIA        False   \n",
       "3 2016-04-29 00:00:00+00:00    8  PONTAL DE CAMBURI        False   \n",
       "4 2016-04-29 00:00:00+00:00   56    JARDIM DA PENHA        False   \n",
       "\n",
       "   Hipertension  Diabetes  Alcoholism Handcap  SMSReceived  NoShow  \n",
       "0          True     False       False       0        False   False  \n",
       "1         False     False       False       0        False   False  \n",
       "2         False     False       False       0        False   False  \n",
       "3         False     False       False       0        False   False  \n",
       "4          True      True       False       0        False   False  "
      ]
     },
     "execution_count": 17,
     "metadata": {},
     "output_type": "execute_result"
    }
   ],
   "source": [
    "df.head()"
   ]
  },
  {
   "cell_type": "code",
   "execution_count": null,
   "id": "f5a5acae",
   "metadata": {},
   "outputs": [],
   "source": []
  },
  {
   "cell_type": "code",
   "execution_count": 18,
   "id": "ca782639",
   "metadata": {},
   "outputs": [
    {
     "data": {
      "text/plain": [
       "0     3539\n",
       "1     2273\n",
       "52    1746\n",
       "49    1652\n",
       "53    1651\n",
       "56    1635\n",
       "38    1629\n",
       "59    1624\n",
       "2     1618\n",
       "50    1613\n",
       "Name: Age, dtype: int64"
      ]
     },
     "execution_count": 18,
     "metadata": {},
     "output_type": "execute_result"
    }
   ],
   "source": [
    "df.Age.value_counts().nlargest(10)"
   ]
  },
  {
   "cell_type": "code",
   "execution_count": 19,
   "id": "b26f7d5d",
   "metadata": {},
   "outputs": [
    {
     "data": {
      "text/plain": [
       "False    88207\n",
       "True     22319\n",
       "Name: NoShow, dtype: int64"
      ]
     },
     "execution_count": 19,
     "metadata": {},
     "output_type": "execute_result"
    }
   ],
   "source": [
    "df.NoShow.value_counts()"
   ]
  },
  {
   "cell_type": "code",
   "execution_count": 20,
   "id": "9dfa496c",
   "metadata": {},
   "outputs": [
    {
     "data": {
      "text/plain": [
       "JARDIM CAMBURI       7717\n",
       "MARIA ORTIZ          5805\n",
       "RESISTÊNCIA          4431\n",
       "JARDIM DA PENHA      3877\n",
       "ITARARÉ              3514\n",
       "CENTRO               3334\n",
       "TABUAZEIRO           3132\n",
       "SANTA MARTHA         3131\n",
       "JESUS DE NAZARETH    2853\n",
       "BONFIM               2773\n",
       "SANTO ANTÔNIO        2746\n",
       "SANTO ANDRÉ          2571\n",
       "CARATOÍRA            2565\n",
       "JABOUR               2509\n",
       "SÃO PEDRO            2448\n",
       "Name: Neighbourhood, dtype: int64"
      ]
     },
     "execution_count": 20,
     "metadata": {},
     "output_type": "execute_result"
    }
   ],
   "source": [
    "df.Neighbourhood.value_counts().nlargest(15)"
   ]
  },
  {
   "cell_type": "code",
   "execution_count": 21,
   "id": "d0056f43",
   "metadata": {},
   "outputs": [
    {
     "data": {
      "text/plain": [
       "F    71839\n",
       "M    38687\n",
       "Name: Gender, dtype: int64"
      ]
     },
     "execution_count": 21,
     "metadata": {},
     "output_type": "execute_result"
    }
   ],
   "source": [
    "df.Gender.value_counts()"
   ]
  },
  {
   "cell_type": "code",
   "execution_count": 22,
   "id": "f58dbc8f",
   "metadata": {},
   "outputs": [
    {
     "data": {
      "text/plain": [
       "False    75044\n",
       "True     35482\n",
       "Name: SMSReceived, dtype: int64"
      ]
     },
     "execution_count": 22,
     "metadata": {},
     "output_type": "execute_result"
    }
   ],
   "source": [
    "df.SMSReceived.value_counts()"
   ]
  },
  {
   "cell_type": "code",
   "execution_count": 23,
   "id": "6f0a134b",
   "metadata": {},
   "outputs": [
    {
     "data": {
      "text/plain": [
       "False    102583\n",
       "True       7943\n",
       "Name: Diabetes, dtype: int64"
      ]
     },
     "execution_count": 23,
     "metadata": {},
     "output_type": "execute_result"
    }
   ],
   "source": [
    "df.Diabetes.value_counts()"
   ]
  },
  {
   "cell_type": "code",
   "execution_count": 24,
   "id": "d8f2ffa6",
   "metadata": {},
   "outputs": [
    {
     "data": {
      "text/plain": [
       "37.089218826339504"
      ]
     },
     "execution_count": 24,
     "metadata": {},
     "output_type": "execute_result"
    }
   ],
   "source": [
    "df.Age.mean()"
   ]
  },
  {
   "cell_type": "code",
   "execution_count": 25,
   "id": "6feb5056",
   "metadata": {
    "scrolled": true
   },
   "outputs": [
    {
     "name": "stderr",
     "output_type": "stream",
     "text": [
      "C:\\Users\\nawaf\\AppData\\Local\\Temp\\ipykernel_21008\\1073285184.py:1: FutureWarning: pivot_table dropped a column because it failed to aggregate. This behavior is deprecated and will raise in a future version of pandas. Select only the columns that can be aggregated.\n",
      "  pd.pivot_table(df, index=['NoShow','Gender'], aggfunc='mean')\n"
     ]
    },
    {
     "data": {
      "text/html": [
       "<div>\n",
       "<style scoped>\n",
       "    .dataframe tbody tr th:only-of-type {\n",
       "        vertical-align: middle;\n",
       "    }\n",
       "\n",
       "    .dataframe tbody tr th {\n",
       "        vertical-align: top;\n",
       "    }\n",
       "\n",
       "    .dataframe thead th {\n",
       "        text-align: right;\n",
       "    }\n",
       "</style>\n",
       "<table border=\"1\" class=\"dataframe\">\n",
       "  <thead>\n",
       "    <tr style=\"text-align: right;\">\n",
       "      <th></th>\n",
       "      <th></th>\n",
       "      <th>Age</th>\n",
       "      <th>Alcoholism</th>\n",
       "      <th>AppointmentID</th>\n",
       "      <th>Diabetes</th>\n",
       "      <th>Hipertension</th>\n",
       "      <th>PatientId</th>\n",
       "      <th>SMSReceived</th>\n",
       "      <th>Scholarship</th>\n",
       "    </tr>\n",
       "    <tr>\n",
       "      <th>NoShow</th>\n",
       "      <th>Gender</th>\n",
       "      <th></th>\n",
       "      <th></th>\n",
       "      <th></th>\n",
       "      <th></th>\n",
       "      <th></th>\n",
       "      <th></th>\n",
       "      <th></th>\n",
       "      <th></th>\n",
       "    </tr>\n",
       "  </thead>\n",
       "  <tbody>\n",
       "    <tr>\n",
       "      <th rowspan=\"2\" valign=\"top\">False</th>\n",
       "      <th>F</th>\n",
       "      <td>39.591126</td>\n",
       "      <td>0.015984</td>\n",
       "      <td>5.680199e+06</td>\n",
       "      <td>0.080164</td>\n",
       "      <td>0.221539</td>\n",
       "      <td>1.462122e+14</td>\n",
       "      <td>0.305389</td>\n",
       "      <td>0.117862</td>\n",
       "    </tr>\n",
       "    <tr>\n",
       "      <th>M</th>\n",
       "      <td>34.461372</td>\n",
       "      <td>0.057102</td>\n",
       "      <td>5.682868e+06</td>\n",
       "      <td>0.062141</td>\n",
       "      <td>0.172696</td>\n",
       "      <td>1.503964e+14</td>\n",
       "      <td>0.265358</td>\n",
       "      <td>0.049609</td>\n",
       "    </tr>\n",
       "    <tr>\n",
       "      <th rowspan=\"2\" valign=\"top\">True</th>\n",
       "      <th>F</th>\n",
       "      <td>36.162190</td>\n",
       "      <td>0.021105</td>\n",
       "      <td>5.651340e+06</td>\n",
       "      <td>0.069686</td>\n",
       "      <td>0.182061</td>\n",
       "      <td>1.452126e+14</td>\n",
       "      <td>0.460463</td>\n",
       "      <td>0.144306</td>\n",
       "    </tr>\n",
       "    <tr>\n",
       "      <th>M</th>\n",
       "      <td>30.833010</td>\n",
       "      <td>0.047767</td>\n",
       "      <td>5.653994e+06</td>\n",
       "      <td>0.053463</td>\n",
       "      <td>0.144337</td>\n",
       "      <td>1.496610e+14</td>\n",
       "      <td>0.396634</td>\n",
       "      <td>0.061100</td>\n",
       "    </tr>\n",
       "  </tbody>\n",
       "</table>\n",
       "</div>"
      ],
      "text/plain": [
       "                     Age  Alcoholism  AppointmentID  Diabetes  Hipertension  \\\n",
       "NoShow Gender                                                                 \n",
       "False  F       39.591126    0.015984   5.680199e+06  0.080164      0.221539   \n",
       "       M       34.461372    0.057102   5.682868e+06  0.062141      0.172696   \n",
       "True   F       36.162190    0.021105   5.651340e+06  0.069686      0.182061   \n",
       "       M       30.833010    0.047767   5.653994e+06  0.053463      0.144337   \n",
       "\n",
       "                  PatientId  SMSReceived  Scholarship  \n",
       "NoShow Gender                                          \n",
       "False  F       1.462122e+14     0.305389     0.117862  \n",
       "       M       1.503964e+14     0.265358     0.049609  \n",
       "True   F       1.452126e+14     0.460463     0.144306  \n",
       "       M       1.496610e+14     0.396634     0.061100  "
      ]
     },
     "execution_count": 25,
     "metadata": {},
     "output_type": "execute_result"
    }
   ],
   "source": [
    "pd.pivot_table(df, index=['NoShow','Gender'], aggfunc='mean')"
   ]
  },
  {
   "cell_type": "code",
   "execution_count": 26,
   "id": "a41428cb",
   "metadata": {
    "scrolled": true
   },
   "outputs": [
    {
     "name": "stderr",
     "output_type": "stream",
     "text": [
      "C:\\Users\\nawaf\\AppData\\Local\\Temp\\ipykernel_21008\\1723484233.py:1: FutureWarning: pivot_table dropped a column because it failed to aggregate. This behavior is deprecated and will raise in a future version of pandas. Select only the columns that can be aggregated.\n",
      "  pd.pivot_table(df, index=['Diabetes','Gender'], aggfunc='mean')\n"
     ]
    },
    {
     "data": {
      "text/html": [
       "<div>\n",
       "<style scoped>\n",
       "    .dataframe tbody tr th:only-of-type {\n",
       "        vertical-align: middle;\n",
       "    }\n",
       "\n",
       "    .dataframe tbody tr th {\n",
       "        vertical-align: top;\n",
       "    }\n",
       "\n",
       "    .dataframe thead th {\n",
       "        text-align: right;\n",
       "    }\n",
       "</style>\n",
       "<table border=\"1\" class=\"dataframe\">\n",
       "  <thead>\n",
       "    <tr style=\"text-align: right;\">\n",
       "      <th></th>\n",
       "      <th></th>\n",
       "      <th>Age</th>\n",
       "      <th>Alcoholism</th>\n",
       "      <th>AppointmentID</th>\n",
       "      <th>Hipertension</th>\n",
       "      <th>NoShow</th>\n",
       "      <th>PatientId</th>\n",
       "      <th>SMSReceived</th>\n",
       "      <th>Scholarship</th>\n",
       "    </tr>\n",
       "    <tr>\n",
       "      <th>Diabetes</th>\n",
       "      <th>Gender</th>\n",
       "      <th></th>\n",
       "      <th></th>\n",
       "      <th></th>\n",
       "      <th></th>\n",
       "      <th></th>\n",
       "      <th></th>\n",
       "      <th></th>\n",
       "      <th></th>\n",
       "    </tr>\n",
       "  </thead>\n",
       "  <tbody>\n",
       "    <tr>\n",
       "      <th rowspan=\"2\" valign=\"top\">False</th>\n",
       "      <th>F</th>\n",
       "      <td>36.989024</td>\n",
       "      <td>0.016744</td>\n",
       "      <td>5.673755e+06</td>\n",
       "      <td>0.160856</td>\n",
       "      <td>0.204988</td>\n",
       "      <td>1.460157e+14</td>\n",
       "      <td>0.340646</td>\n",
       "      <td>0.125859</td>\n",
       "    </tr>\n",
       "    <tr>\n",
       "      <th>M</th>\n",
       "      <td>31.965530</td>\n",
       "      <td>0.052792</td>\n",
       "      <td>5.676860e+06</td>\n",
       "      <td>0.128226</td>\n",
       "      <td>0.201155</td>\n",
       "      <td>1.498623e+14</td>\n",
       "      <td>0.290619</td>\n",
       "      <td>0.053810</td>\n",
       "    </tr>\n",
       "    <tr>\n",
       "      <th rowspan=\"2\" valign=\"top\">True</th>\n",
       "      <th>F</th>\n",
       "      <td>61.407599</td>\n",
       "      <td>0.020335</td>\n",
       "      <td>5.681202e+06</td>\n",
       "      <td>0.835712</td>\n",
       "      <td>0.181413</td>\n",
       "      <td>1.459310e+14</td>\n",
       "      <td>0.292544</td>\n",
       "      <td>0.092223</td>\n",
       "    </tr>\n",
       "    <tr>\n",
       "      <th>M</th>\n",
       "      <td>61.288404</td>\n",
       "      <td>0.093282</td>\n",
       "      <td>5.680865e+06</td>\n",
       "      <td>0.770646</td>\n",
       "      <td>0.176722</td>\n",
       "      <td>1.562725e+14</td>\n",
       "      <td>0.306376</td>\n",
       "      <td>0.022251</td>\n",
       "    </tr>\n",
       "  </tbody>\n",
       "</table>\n",
       "</div>"
      ],
      "text/plain": [
       "                       Age  Alcoholism  AppointmentID  Hipertension    NoShow  \\\n",
       "Diabetes Gender                                                                 \n",
       "False    F       36.989024    0.016744   5.673755e+06      0.160856  0.204988   \n",
       "         M       31.965530    0.052792   5.676860e+06      0.128226  0.201155   \n",
       "True     F       61.407599    0.020335   5.681202e+06      0.835712  0.181413   \n",
       "         M       61.288404    0.093282   5.680865e+06      0.770646  0.176722   \n",
       "\n",
       "                    PatientId  SMSReceived  Scholarship  \n",
       "Diabetes Gender                                          \n",
       "False    F       1.460157e+14     0.340646     0.125859  \n",
       "         M       1.498623e+14     0.290619     0.053810  \n",
       "True     F       1.459310e+14     0.292544     0.092223  \n",
       "         M       1.562725e+14     0.306376     0.022251  "
      ]
     },
     "execution_count": 26,
     "metadata": {},
     "output_type": "execute_result"
    }
   ],
   "source": [
    "pd.pivot_table(df, index=['Diabetes','Gender'], aggfunc='mean')"
   ]
  },
  {
   "cell_type": "code",
   "execution_count": 27,
   "id": "7f778741",
   "metadata": {
    "scrolled": true
   },
   "outputs": [
    {
     "name": "stderr",
     "output_type": "stream",
     "text": [
      "C:\\Users\\nawaf\\AppData\\Local\\Temp\\ipykernel_21008\\1186409263.py:1: FutureWarning: pivot_table dropped a column because it failed to aggregate. This behavior is deprecated and will raise in a future version of pandas. Select only the columns that can be aggregated.\n",
      "  pd.pivot_table(df, index=['Hipertension','Gender'], aggfunc='mean')\n"
     ]
    },
    {
     "data": {
      "text/html": [
       "<div>\n",
       "<style scoped>\n",
       "    .dataframe tbody tr th:only-of-type {\n",
       "        vertical-align: middle;\n",
       "    }\n",
       "\n",
       "    .dataframe tbody tr th {\n",
       "        vertical-align: top;\n",
       "    }\n",
       "\n",
       "    .dataframe thead th {\n",
       "        text-align: right;\n",
       "    }\n",
       "</style>\n",
       "<table border=\"1\" class=\"dataframe\">\n",
       "  <thead>\n",
       "    <tr style=\"text-align: right;\">\n",
       "      <th></th>\n",
       "      <th></th>\n",
       "      <th>Age</th>\n",
       "      <th>Alcoholism</th>\n",
       "      <th>AppointmentID</th>\n",
       "      <th>Diabetes</th>\n",
       "      <th>NoShow</th>\n",
       "      <th>PatientId</th>\n",
       "      <th>SMSReceived</th>\n",
       "      <th>Scholarship</th>\n",
       "    </tr>\n",
       "    <tr>\n",
       "      <th>Hipertension</th>\n",
       "      <th>Gender</th>\n",
       "      <th></th>\n",
       "      <th></th>\n",
       "      <th></th>\n",
       "      <th></th>\n",
       "      <th></th>\n",
       "      <th></th>\n",
       "      <th></th>\n",
       "      <th></th>\n",
       "    </tr>\n",
       "  </thead>\n",
       "  <tbody>\n",
       "    <tr>\n",
       "      <th rowspan=\"2\" valign=\"top\">False</th>\n",
       "      <th>F</th>\n",
       "      <td>33.030885</td>\n",
       "      <td>0.013310</td>\n",
       "      <td>5.673497e+06</td>\n",
       "      <td>0.016301</td>\n",
       "      <td>0.211274</td>\n",
       "      <td>1.468172e+14</td>\n",
       "      <td>0.342531</td>\n",
       "      <td>0.126496</td>\n",
       "    </tr>\n",
       "    <tr>\n",
       "      <th>M</th>\n",
       "      <td>28.289868</td>\n",
       "      <td>0.039752</td>\n",
       "      <td>5.677231e+06</td>\n",
       "      <td>0.016633</td>\n",
       "      <td>0.205120</td>\n",
       "      <td>1.509283e+14</td>\n",
       "      <td>0.287324</td>\n",
       "      <td>0.056788</td>\n",
       "    </tr>\n",
       "    <tr>\n",
       "      <th rowspan=\"2\" valign=\"top\">True</th>\n",
       "      <th>F</th>\n",
       "      <td>60.492861</td>\n",
       "      <td>0.030706</td>\n",
       "      <td>5.677426e+06</td>\n",
       "      <td>0.305431</td>\n",
       "      <td>0.173219</td>\n",
       "      <td>1.430328e+14</td>\n",
       "      <td>0.316122</td>\n",
       "      <td>0.111220</td>\n",
       "    </tr>\n",
       "    <tr>\n",
       "      <th>M</th>\n",
       "      <td>60.900186</td>\n",
       "      <td>0.132467</td>\n",
       "      <td>5.676460e+06</td>\n",
       "      <td>0.278706</td>\n",
       "      <td>0.172547</td>\n",
       "      <td>1.468646e+14</td>\n",
       "      <td>0.312751</td>\n",
       "      <td>0.027546</td>\n",
       "    </tr>\n",
       "  </tbody>\n",
       "</table>\n",
       "</div>"
      ],
      "text/plain": [
       "                           Age  Alcoholism  AppointmentID  Diabetes    NoShow  \\\n",
       "Hipertension Gender                                                             \n",
       "False        F       33.030885    0.013310   5.673497e+06  0.016301  0.211274   \n",
       "             M       28.289868    0.039752   5.677231e+06  0.016633  0.205120   \n",
       "True         F       60.492861    0.030706   5.677426e+06  0.305431  0.173219   \n",
       "             M       60.900186    0.132467   5.676460e+06  0.278706  0.172547   \n",
       "\n",
       "                        PatientId  SMSReceived  Scholarship  \n",
       "Hipertension Gender                                          \n",
       "False        F       1.468172e+14     0.342531     0.126496  \n",
       "             M       1.509283e+14     0.287324     0.056788  \n",
       "True         F       1.430328e+14     0.316122     0.111220  \n",
       "             M       1.468646e+14     0.312751     0.027546  "
      ]
     },
     "execution_count": 27,
     "metadata": {},
     "output_type": "execute_result"
    }
   ],
   "source": [
    "pd.pivot_table(df, index=['Hipertension','Gender'], aggfunc='mean')"
   ]
  },
  {
   "cell_type": "code",
   "execution_count": 28,
   "id": "8985add6",
   "metadata": {
    "scrolled": true
   },
   "outputs": [
    {
     "name": "stderr",
     "output_type": "stream",
     "text": [
      "C:\\Users\\nawaf\\AppData\\Local\\Temp\\ipykernel_21008\\926346533.py:1: FutureWarning: pivot_table dropped a column because it failed to aggregate. This behavior is deprecated and will raise in a future version of pandas. Select only the columns that can be aggregated.\n",
      "  pd.pivot_table(df, index=['Alcoholism','Gender'], aggfunc='mean')\n"
     ]
    },
    {
     "data": {
      "text/html": [
       "<div>\n",
       "<style scoped>\n",
       "    .dataframe tbody tr th:only-of-type {\n",
       "        vertical-align: middle;\n",
       "    }\n",
       "\n",
       "    .dataframe tbody tr th {\n",
       "        vertical-align: top;\n",
       "    }\n",
       "\n",
       "    .dataframe thead th {\n",
       "        text-align: right;\n",
       "    }\n",
       "</style>\n",
       "<table border=\"1\" class=\"dataframe\">\n",
       "  <thead>\n",
       "    <tr style=\"text-align: right;\">\n",
       "      <th></th>\n",
       "      <th></th>\n",
       "      <th>Age</th>\n",
       "      <th>AppointmentID</th>\n",
       "      <th>Diabetes</th>\n",
       "      <th>Hipertension</th>\n",
       "      <th>NoShow</th>\n",
       "      <th>PatientId</th>\n",
       "      <th>SMSReceived</th>\n",
       "      <th>Scholarship</th>\n",
       "    </tr>\n",
       "    <tr>\n",
       "      <th>Alcoholism</th>\n",
       "      <th>Gender</th>\n",
       "      <th></th>\n",
       "      <th></th>\n",
       "      <th></th>\n",
       "      <th></th>\n",
       "      <th></th>\n",
       "      <th></th>\n",
       "      <th></th>\n",
       "      <th></th>\n",
       "    </tr>\n",
       "  </thead>\n",
       "  <tbody>\n",
       "    <tr>\n",
       "      <th rowspan=\"2\" valign=\"top\">False</th>\n",
       "      <th>F</th>\n",
       "      <td>38.783420</td>\n",
       "      <td>5.674093e+06</td>\n",
       "      <td>0.077773</td>\n",
       "      <td>0.210547</td>\n",
       "      <td>0.202305</td>\n",
       "      <td>1.457605e+14</td>\n",
       "      <td>0.337785</td>\n",
       "      <td>0.119180</td>\n",
       "    </tr>\n",
       "    <tr>\n",
       "      <th>M</th>\n",
       "      <td>32.666430</td>\n",
       "      <td>5.676424e+06</td>\n",
       "      <td>0.057975</td>\n",
       "      <td>0.153379</td>\n",
       "      <td>0.201259</td>\n",
       "      <td>1.493770e+14</td>\n",
       "      <td>0.294993</td>\n",
       "      <td>0.052449</td>\n",
       "    </tr>\n",
       "    <tr>\n",
       "      <th rowspan=\"2\" valign=\"top\">True</th>\n",
       "      <th>F</th>\n",
       "      <td>45.310711</td>\n",
       "      <td>5.688356e+06</td>\n",
       "      <td>0.093213</td>\n",
       "      <td>0.385119</td>\n",
       "      <td>0.251840</td>\n",
       "      <td>1.603621e+14</td>\n",
       "      <td>0.285364</td>\n",
       "      <td>0.357318</td>\n",
       "    </tr>\n",
       "    <tr>\n",
       "      <th>M</th>\n",
       "      <td>52.044923</td>\n",
       "      <td>5.688692e+06</td>\n",
       "      <td>0.102012</td>\n",
       "      <td>0.400562</td>\n",
       "      <td>0.172672</td>\n",
       "      <td>1.651736e+14</td>\n",
       "      <td>0.233037</td>\n",
       "      <td>0.042583</td>\n",
       "    </tr>\n",
       "  </tbody>\n",
       "</table>\n",
       "</div>"
      ],
      "text/plain": [
       "                         Age  AppointmentID  Diabetes  Hipertension    NoShow  \\\n",
       "Alcoholism Gender                                                               \n",
       "False      F       38.783420   5.674093e+06  0.077773      0.210547  0.202305   \n",
       "           M       32.666430   5.676424e+06  0.057975      0.153379  0.201259   \n",
       "True       F       45.310711   5.688356e+06  0.093213      0.385119  0.251840   \n",
       "           M       52.044923   5.688692e+06  0.102012      0.400562  0.172672   \n",
       "\n",
       "                      PatientId  SMSReceived  Scholarship  \n",
       "Alcoholism Gender                                          \n",
       "False      F       1.457605e+14     0.337785     0.119180  \n",
       "           M       1.493770e+14     0.294993     0.052449  \n",
       "True       F       1.603621e+14     0.285364     0.357318  \n",
       "           M       1.651736e+14     0.233037     0.042583  "
      ]
     },
     "execution_count": 28,
     "metadata": {},
     "output_type": "execute_result"
    }
   ],
   "source": [
    "pd.pivot_table(df, index=['Alcoholism','Gender'], aggfunc='mean')"
   ]
  },
  {
   "cell_type": "code",
   "execution_count": 29,
   "id": "9f375781",
   "metadata": {},
   "outputs": [
    {
     "data": {
      "text/plain": [
       "AppointmentDay\n",
       "4     3235\n",
       "5    80841\n",
       "6    26450\n",
       "Name: NoShow, dtype: int64"
      ]
     },
     "execution_count": 29,
     "metadata": {},
     "output_type": "execute_result"
    }
   ],
   "source": [
    "df.groupby(df[\"AppointmentDay\"].dt.month)['NoShow'].count()"
   ]
  },
  {
   "cell_type": "code",
   "execution_count": 30,
   "id": "1b6b17e2",
   "metadata": {},
   "outputs": [],
   "source": [
    "App = df.groupby(df[\"AppointmentDay\"].dt.month)[\"PatientId\"].count()"
   ]
  },
  {
   "cell_type": "code",
   "execution_count": 31,
   "id": "d27e404b",
   "metadata": {},
   "outputs": [
    {
     "data": {
      "text/plain": [
       "(Timestamp('2016-06-08 00:00:00+0000', tz='UTC'),\n",
       " Timestamp('2016-04-29 00:00:00+0000', tz='UTC'))"
      ]
     },
     "execution_count": 31,
     "metadata": {},
     "output_type": "execute_result"
    }
   ],
   "source": [
    "df.AppointmentDay.max(), df.AppointmentDay.min()"
   ]
  },
  {
   "cell_type": "code",
   "execution_count": 32,
   "id": "6068cd3c",
   "metadata": {},
   "outputs": [
    {
     "data": {
      "image/png": "[encoded data removed]",
      "text/plain": [
       "<Figure size 1000x1000 with 6 Axes>"
      ]
     },
     "metadata": {},
     "output_type": "display_data"
    }
   ],
   "source": [
    "df.hist(figsize=(10,10));"
   ]
  },
  {
   "cell_type": "code",
   "execution_count": 33,
   "id": "217f3a2e",
   "metadata": {},
   "outputs": [
    {
     "name": "stderr",
     "output_type": "stream",
     "text": [
      "C:\\Users\\nawaf\\AppData\\Local\\Temp\\ipykernel_21008\\2434874642.py:1: UserWarning: \n",
      "\n",
      "`distplot` is a deprecated function and will be removed in seaborn v0.14.0.\n",
      "\n",
      "Please adapt your code to use either `displot` (a figure-level function with\n",
      "similar flexibility) or `histplot` (an axes-level function for histograms).\n",
      "\n",
      "For a guide to updating your code to use the new functions, please see\n",
      "https://gist.github.com/mwaskom/de44147ed2974457ad6372750bbe5751\n",
      "\n",
      "  sb.distplot(df['Age']);\n"
     ]
    },
    {
     "data": {
      "image/png": "[encoded data removed]",
      "text/plain": [
       "<Figure size 640x480 with 1 Axes>"
      ]
     },
     "metadata": {},
     "output_type": "display_data"
    }
   ],
   "source": [
    "sb.distplot(df['Age']);"
   ]
  },
  {
   "cell_type": "code",
   "execution_count": 34,
   "id": "99cae5ce",
   "metadata": {},
   "outputs": [
    {
     "data": {
      "image/png": "[encoded data removed]",
      "text/plain": [
       "<Figure size 640x480 with 1 Axes>"
      ]
     },
     "metadata": {},
     "output_type": "display_data"
    }
   ],
   "source": [
    "yes = df.NoShow == 'Yes'\n",
    "no = df.NoShow == 'No'\n",
    "df.Age[yes].hist(alpha=0.5, bins=20, color='blue')\n",
    "df.Age[no].hist(alpha=0.5, bins=20, color='black');"
   ]
  },
  {
   "cell_type": "code",
   "execution_count": 35,
   "id": "65ed9626",
   "metadata": {},
   "outputs": [
    {
     "data": {
      "image/png": "[encoded data removed]",
      "text/plain": [
       "<Figure size 640x480 with 1 Axes>"
      ]
     },
     "metadata": {},
     "output_type": "display_data"
    }
   ],
   "source": [
    "gender = df.Gender.value_counts()\n",
    "plt.pie(gender, labels=gender.index,wedgeprops={'width':0.4});"
   ]
  },
  {
   "cell_type": "code",
   "execution_count": 1,
   "id": "4db8dcd5",
   "metadata": {},
   "outputs": [
    {
     "ename": "NameError",
     "evalue": "name 'df' is not defined",
     "output_type": "error",
     "traceback": [
      "\u001b[1;31m---------------------------------------------------------------------------\u001b[0m",
      "\u001b[1;31mNameError\u001b[0m                                 Traceback (most recent call last)",
      "Cell \u001b[1;32mIn[1], line 1\u001b[0m\n\u001b[1;32m----> 1\u001b[0m nei \u001b[38;5;241m=\u001b[39m \u001b[43mdf\u001b[49m\u001b[38;5;241m.\u001b[39mNeighbourhood\u001b[38;5;241m.\u001b[39mvalue_counts()\u001b[38;5;241m.\u001b[39mnlargest(\u001b[38;5;241m10\u001b[39m)\n\u001b[0;32m      2\u001b[0m plt\u001b[38;5;241m.\u001b[39mpie(nei, labels\u001b[38;5;241m=\u001b[39mnei\u001b[38;5;241m.\u001b[39mindex, autopct\u001b[38;5;241m=\u001b[39m\u001b[38;5;124m'\u001b[39m\u001b[38;5;132;01m%.1f\u001b[39;00m\u001b[38;5;132;01m%%\u001b[39;00m\u001b[38;5;124m'\u001b[39m)\n",
      "\u001b[1;31mNameError\u001b[0m: name 'df' is not defined"
     ]
    }
   ],
   "source": [
    "nei = df.Neighbourhood.value_counts().nlargest(10)\n",
    "plt.pie(nei, labels=nei.index, autopct='%1.1f%%');"
   ]
  },
  {
   "cell_type": "code",
   "execution_count": 37,
   "id": "b090d8f4",
   "metadata": {},
   "outputs": [
    {
     "name": "stderr",
     "output_type": "stream",
     "text": [
      "C:\\Users\\nawaf\\anaconda3\\lib\\site-packages\\seaborn\\categorical.py:532: UserWarning: Boolean Series key will be reindexed to match DataFrame index.\n",
      "  x = data.get(x, x)\n"
     ]
    },
    {
     "ename": "IndexingError",
     "evalue": "Unalignable boolean Series provided as indexer (index of the boolean Series and of the indexed object do not match).",
     "output_type": "error",
     "traceback": [
      "\u001b[1;31m---------------------------------------------------------------------------\u001b[0m",
      "\u001b[1;31mIndexingError\u001b[0m                             Traceback (most recent call last)",
      "Cell \u001b[1;32mIn[37], line 1\u001b[0m\n\u001b[1;32m----> 1\u001b[0m \u001b[43msb\u001b[49m\u001b[38;5;241;43m.\u001b[39;49m\u001b[43mcountplot\u001b[49m\u001b[43m(\u001b[49m\u001b[43mdata\u001b[49m\u001b[38;5;241;43m=\u001b[39;49m\u001b[43mdf\u001b[49m\u001b[43m,\u001b[49m\u001b[43m \u001b[49m\u001b[43mx\u001b[49m\u001b[38;5;241;43m=\u001b[39;49m\u001b[43mdf\u001b[49m\u001b[43m[\u001b[49m\u001b[43mdf\u001b[49m\u001b[43m[\u001b[49m\u001b[38;5;124;43m'\u001b[39;49m\u001b[38;5;124;43mNoShow\u001b[39;49m\u001b[38;5;124;43m'\u001b[39;49m\u001b[43m]\u001b[49m\u001b[43m \u001b[49m\u001b[38;5;241;43m==\u001b[39;49m\u001b[43m \u001b[49m\u001b[38;5;124;43m\"\u001b[39;49m\u001b[38;5;124;43mYes\u001b[39;49m\u001b[38;5;124;43m\"\u001b[39;49m\u001b[43m]\u001b[49m\u001b[43m[\u001b[49m\u001b[38;5;124;43m\"\u001b[39;49m\u001b[38;5;124;43mSMSReceived\u001b[39;49m\u001b[38;5;124;43m\"\u001b[39;49m\u001b[43m]\u001b[49m\u001b[43m,\u001b[49m\u001b[43m \u001b[49m\u001b[43mcolor\u001b[49m\u001b[38;5;241;43m=\u001b[39;49m\u001b[38;5;124;43m'\u001b[39;49m\u001b[38;5;124;43mblack\u001b[39;49m\u001b[38;5;124;43m'\u001b[39;49m\u001b[43m,\u001b[49m\u001b[43m \u001b[49m\u001b[43malpha\u001b[49m\u001b[38;5;241;43m=\u001b[39;49m\u001b[38;5;241;43m0.7\u001b[39;49m\u001b[43m)\u001b[49m\n",
      "File \u001b[1;32m~\\anaconda3\\lib\\site-packages\\seaborn\\categorical.py:2943\u001b[0m, in \u001b[0;36mcountplot\u001b[1;34m(data, x, y, hue, order, hue_order, orient, color, palette, saturation, width, dodge, ax, **kwargs)\u001b[0m\n\u001b[0;32m   2940\u001b[0m \u001b[38;5;28;01melif\u001b[39;00m x \u001b[38;5;129;01mis\u001b[39;00m \u001b[38;5;129;01mnot\u001b[39;00m \u001b[38;5;28;01mNone\u001b[39;00m \u001b[38;5;129;01mand\u001b[39;00m y \u001b[38;5;129;01mis\u001b[39;00m \u001b[38;5;129;01mnot\u001b[39;00m \u001b[38;5;28;01mNone\u001b[39;00m:\n\u001b[0;32m   2941\u001b[0m     \u001b[38;5;28;01mraise\u001b[39;00m \u001b[38;5;167;01mValueError\u001b[39;00m(\u001b[38;5;124m\"\u001b[39m\u001b[38;5;124mCannot pass values for both `x` and `y`\u001b[39m\u001b[38;5;124m\"\u001b[39m)\n\u001b[1;32m-> 2943\u001b[0m plotter \u001b[38;5;241m=\u001b[39m \u001b[43m_CountPlotter\u001b[49m\u001b[43m(\u001b[49m\n\u001b[0;32m   2944\u001b[0m \u001b[43m    \u001b[49m\u001b[43mx\u001b[49m\u001b[43m,\u001b[49m\u001b[43m \u001b[49m\u001b[43my\u001b[49m\u001b[43m,\u001b[49m\u001b[43m \u001b[49m\u001b[43mhue\u001b[49m\u001b[43m,\u001b[49m\u001b[43m \u001b[49m\u001b[43mdata\u001b[49m\u001b[43m,\u001b[49m\u001b[43m \u001b[49m\u001b[43morder\u001b[49m\u001b[43m,\u001b[49m\u001b[43m \u001b[49m\u001b[43mhue_order\u001b[49m\u001b[43m,\u001b[49m\n\u001b[0;32m   2945\u001b[0m \u001b[43m    \u001b[49m\u001b[43mestimator\u001b[49m\u001b[43m,\u001b[49m\u001b[43m \u001b[49m\u001b[43merrorbar\u001b[49m\u001b[43m,\u001b[49m\u001b[43m \u001b[49m\u001b[43mn_boot\u001b[49m\u001b[43m,\u001b[49m\u001b[43m \u001b[49m\u001b[43munits\u001b[49m\u001b[43m,\u001b[49m\u001b[43m \u001b[49m\u001b[43mseed\u001b[49m\u001b[43m,\u001b[49m\n\u001b[0;32m   2946\u001b[0m \u001b[43m    \u001b[49m\u001b[43morient\u001b[49m\u001b[43m,\u001b[49m\u001b[43m \u001b[49m\u001b[43mcolor\u001b[49m\u001b[43m,\u001b[49m\u001b[43m \u001b[49m\u001b[43mpalette\u001b[49m\u001b[43m,\u001b[49m\u001b[43m \u001b[49m\u001b[43msaturation\u001b[49m\u001b[43m,\u001b[49m\n\u001b[0;32m   2947\u001b[0m \u001b[43m    \u001b[49m\u001b[43mwidth\u001b[49m\u001b[43m,\u001b[49m\u001b[43m \u001b[49m\u001b[43merrcolor\u001b[49m\u001b[43m,\u001b[49m\u001b[43m \u001b[49m\u001b[43merrwidth\u001b[49m\u001b[43m,\u001b[49m\u001b[43m \u001b[49m\u001b[43mcapsize\u001b[49m\u001b[43m,\u001b[49m\u001b[43m \u001b[49m\u001b[43mdodge\u001b[49m\n\u001b[0;32m   2948\u001b[0m \u001b[43m\u001b[49m\u001b[43m)\u001b[49m\n\u001b[0;32m   2950\u001b[0m plotter\u001b[38;5;241m.\u001b[39mvalue_label \u001b[38;5;241m=\u001b[39m \u001b[38;5;124m\"\u001b[39m\u001b[38;5;124mcount\u001b[39m\u001b[38;5;124m\"\u001b[39m\n\u001b[0;32m   2952\u001b[0m \u001b[38;5;28;01mif\u001b[39;00m ax \u001b[38;5;129;01mis\u001b[39;00m \u001b[38;5;28;01mNone\u001b[39;00m:\n",
      "File \u001b[1;32m~\\anaconda3\\lib\\site-packages\\seaborn\\categorical.py:1530\u001b[0m, in \u001b[0;36m_BarPlotter.__init__\u001b[1;34m(self, x, y, hue, data, order, hue_order, estimator, errorbar, n_boot, units, seed, orient, color, palette, saturation, width, errcolor, errwidth, capsize, dodge)\u001b[0m\n\u001b[0;32m   1525\u001b[0m \u001b[38;5;28;01mdef\u001b[39;00m \u001b[38;5;21m__init__\u001b[39m(\u001b[38;5;28mself\u001b[39m, x, y, hue, data, order, hue_order,\n\u001b[0;32m   1526\u001b[0m              estimator, errorbar, n_boot, units, seed,\n\u001b[0;32m   1527\u001b[0m              orient, color, palette, saturation, width,\n\u001b[0;32m   1528\u001b[0m              errcolor, errwidth, capsize, dodge):\n\u001b[0;32m   1529\u001b[0m     \u001b[38;5;124;03m\"\"\"Initialize the plotter.\"\"\"\u001b[39;00m\n\u001b[1;32m-> 1530\u001b[0m     \u001b[38;5;28;43mself\u001b[39;49m\u001b[38;5;241;43m.\u001b[39;49m\u001b[43mestablish_variables\u001b[49m\u001b[43m(\u001b[49m\u001b[43mx\u001b[49m\u001b[43m,\u001b[49m\u001b[43m \u001b[49m\u001b[43my\u001b[49m\u001b[43m,\u001b[49m\u001b[43m \u001b[49m\u001b[43mhue\u001b[49m\u001b[43m,\u001b[49m\u001b[43m \u001b[49m\u001b[43mdata\u001b[49m\u001b[43m,\u001b[49m\u001b[43m \u001b[49m\u001b[43morient\u001b[49m\u001b[43m,\u001b[49m\n\u001b[0;32m   1531\u001b[0m \u001b[43m                             \u001b[49m\u001b[43morder\u001b[49m\u001b[43m,\u001b[49m\u001b[43m \u001b[49m\u001b[43mhue_order\u001b[49m\u001b[43m,\u001b[49m\u001b[43m \u001b[49m\u001b[43munits\u001b[49m\u001b[43m)\u001b[49m\n\u001b[0;32m   1532\u001b[0m     \u001b[38;5;28mself\u001b[39m\u001b[38;5;241m.\u001b[39mestablish_colors(color, palette, saturation)\n\u001b[0;32m   1533\u001b[0m     \u001b[38;5;28mself\u001b[39m\u001b[38;5;241m.\u001b[39mestimate_statistic(estimator, errorbar, n_boot, seed)\n",
      "File \u001b[1;32m~\\anaconda3\\lib\\site-packages\\seaborn\\categorical.py:532\u001b[0m, in \u001b[0;36m_CategoricalPlotter.establish_variables\u001b[1;34m(self, x, y, hue, data, orient, order, hue_order, units)\u001b[0m\n\u001b[0;32m    524\u001b[0m \u001b[38;5;66;03m# Option 2:\u001b[39;00m\n\u001b[0;32m    525\u001b[0m \u001b[38;5;66;03m# We are plotting a long-form dataset\u001b[39;00m\n\u001b[0;32m    526\u001b[0m \u001b[38;5;66;03m# -----------------------------------\u001b[39;00m\n\u001b[1;32m   (...)\u001b[0m\n\u001b[0;32m    529\u001b[0m \n\u001b[0;32m    530\u001b[0m     \u001b[38;5;66;03m# See if we need to get variables from `data`\u001b[39;00m\n\u001b[0;32m    531\u001b[0m     \u001b[38;5;28;01mif\u001b[39;00m data \u001b[38;5;129;01mis\u001b[39;00m \u001b[38;5;129;01mnot\u001b[39;00m \u001b[38;5;28;01mNone\u001b[39;00m:\n\u001b[1;32m--> 532\u001b[0m         x \u001b[38;5;241m=\u001b[39m \u001b[43mdata\u001b[49m\u001b[38;5;241;43m.\u001b[39;49m\u001b[43mget\u001b[49m\u001b[43m(\u001b[49m\u001b[43mx\u001b[49m\u001b[43m,\u001b[49m\u001b[43m \u001b[49m\u001b[43mx\u001b[49m\u001b[43m)\u001b[49m\n\u001b[0;32m    533\u001b[0m         y \u001b[38;5;241m=\u001b[39m data\u001b[38;5;241m.\u001b[39mget(y, y)\n\u001b[0;32m    534\u001b[0m         hue \u001b[38;5;241m=\u001b[39m data\u001b[38;5;241m.\u001b[39mget(hue, hue)\n",
      "File \u001b[1;32m~\\anaconda3\\lib\\site-packages\\pandas\\core\\generic.py:4311\u001b[0m, in \u001b[0;36mNDFrame.get\u001b[1;34m(self, key, default)\u001b[0m\n\u001b[0;32m   4265\u001b[0m \u001b[38;5;124;03m\"\"\"\u001b[39;00m\n\u001b[0;32m   4266\u001b[0m \u001b[38;5;124;03mGet item from object for given key (ex: DataFrame column).\u001b[39;00m\n\u001b[0;32m   4267\u001b[0m \n\u001b[1;32m   (...)\u001b[0m\n\u001b[0;32m   4308\u001b[0m \u001b[38;5;124;03m'default_value'\u001b[39;00m\n\u001b[0;32m   4309\u001b[0m \u001b[38;5;124;03m\"\"\"\u001b[39;00m\n\u001b[0;32m   4310\u001b[0m \u001b[38;5;28;01mtry\u001b[39;00m:\n\u001b[1;32m-> 4311\u001b[0m     \u001b[38;5;28;01mreturn\u001b[39;00m \u001b[38;5;28;43mself\u001b[39;49m\u001b[43m[\u001b[49m\u001b[43mkey\u001b[49m\u001b[43m]\u001b[49m\n\u001b[0;32m   4312\u001b[0m \u001b[38;5;28;01mexcept\u001b[39;00m (\u001b[38;5;167;01mKeyError\u001b[39;00m, \u001b[38;5;167;01mValueError\u001b[39;00m, \u001b[38;5;167;01mIndexError\u001b[39;00m):\n\u001b[0;32m   4313\u001b[0m     \u001b[38;5;28;01mreturn\u001b[39;00m default\n",
      "File \u001b[1;32m~\\anaconda3\\lib\\site-packages\\pandas\\core\\frame.py:3798\u001b[0m, in \u001b[0;36mDataFrame.__getitem__\u001b[1;34m(self, key)\u001b[0m\n\u001b[0;32m   3796\u001b[0m \u001b[38;5;66;03m# Do we have a (boolean) 1d indexer?\u001b[39;00m\n\u001b[0;32m   3797\u001b[0m \u001b[38;5;28;01mif\u001b[39;00m com\u001b[38;5;241m.\u001b[39mis_bool_indexer(key):\n\u001b[1;32m-> 3798\u001b[0m     \u001b[38;5;28;01mreturn\u001b[39;00m \u001b[38;5;28;43mself\u001b[39;49m\u001b[38;5;241;43m.\u001b[39;49m\u001b[43m_getitem_bool_array\u001b[49m\u001b[43m(\u001b[49m\u001b[43mkey\u001b[49m\u001b[43m)\u001b[49m\n\u001b[0;32m   3800\u001b[0m \u001b[38;5;66;03m# We are left with two options: a single key, and a collection of keys,\u001b[39;00m\n\u001b[0;32m   3801\u001b[0m \u001b[38;5;66;03m# We interpret tuples as collections only for non-MultiIndex\u001b[39;00m\n\u001b[0;32m   3802\u001b[0m is_single_key \u001b[38;5;241m=\u001b[39m \u001b[38;5;28misinstance\u001b[39m(key, \u001b[38;5;28mtuple\u001b[39m) \u001b[38;5;129;01mor\u001b[39;00m \u001b[38;5;129;01mnot\u001b[39;00m is_list_like(key)\n",
      "File \u001b[1;32m~\\anaconda3\\lib\\site-packages\\pandas\\core\\frame.py:3851\u001b[0m, in \u001b[0;36mDataFrame._getitem_bool_array\u001b[1;34m(self, key)\u001b[0m\n\u001b[0;32m   3845\u001b[0m     \u001b[38;5;28;01mraise\u001b[39;00m \u001b[38;5;167;01mValueError\u001b[39;00m(\n\u001b[0;32m   3846\u001b[0m         \u001b[38;5;124mf\u001b[39m\u001b[38;5;124m\"\u001b[39m\u001b[38;5;124mItem wrong length \u001b[39m\u001b[38;5;132;01m{\u001b[39;00m\u001b[38;5;28mlen\u001b[39m(key)\u001b[38;5;132;01m}\u001b[39;00m\u001b[38;5;124m instead of \u001b[39m\u001b[38;5;132;01m{\u001b[39;00m\u001b[38;5;28mlen\u001b[39m(\u001b[38;5;28mself\u001b[39m\u001b[38;5;241m.\u001b[39mindex)\u001b[38;5;132;01m}\u001b[39;00m\u001b[38;5;124m.\u001b[39m\u001b[38;5;124m\"\u001b[39m\n\u001b[0;32m   3847\u001b[0m     )\n\u001b[0;32m   3849\u001b[0m \u001b[38;5;66;03m# check_bool_indexer will throw exception if Series key cannot\u001b[39;00m\n\u001b[0;32m   3850\u001b[0m \u001b[38;5;66;03m# be reindexed to match DataFrame rows\u001b[39;00m\n\u001b[1;32m-> 3851\u001b[0m key \u001b[38;5;241m=\u001b[39m \u001b[43mcheck_bool_indexer\u001b[49m\u001b[43m(\u001b[49m\u001b[38;5;28;43mself\u001b[39;49m\u001b[38;5;241;43m.\u001b[39;49m\u001b[43mindex\u001b[49m\u001b[43m,\u001b[49m\u001b[43m \u001b[49m\u001b[43mkey\u001b[49m\u001b[43m)\u001b[49m\n\u001b[0;32m   3852\u001b[0m indexer \u001b[38;5;241m=\u001b[39m key\u001b[38;5;241m.\u001b[39mnonzero()[\u001b[38;5;241m0\u001b[39m]\n\u001b[0;32m   3853\u001b[0m \u001b[38;5;28;01mreturn\u001b[39;00m \u001b[38;5;28mself\u001b[39m\u001b[38;5;241m.\u001b[39m_take_with_is_copy(indexer, axis\u001b[38;5;241m=\u001b[39m\u001b[38;5;241m0\u001b[39m)\n",
      "File \u001b[1;32m~\\anaconda3\\lib\\site-packages\\pandas\\core\\indexing.py:2552\u001b[0m, in \u001b[0;36mcheck_bool_indexer\u001b[1;34m(index, key)\u001b[0m\n\u001b[0;32m   2550\u001b[0m indexer \u001b[38;5;241m=\u001b[39m result\u001b[38;5;241m.\u001b[39mindex\u001b[38;5;241m.\u001b[39mget_indexer_for(index)\n\u001b[0;32m   2551\u001b[0m \u001b[38;5;28;01mif\u001b[39;00m \u001b[38;5;241m-\u001b[39m\u001b[38;5;241m1\u001b[39m \u001b[38;5;129;01min\u001b[39;00m indexer:\n\u001b[1;32m-> 2552\u001b[0m     \u001b[38;5;28;01mraise\u001b[39;00m IndexingError(\n\u001b[0;32m   2553\u001b[0m         \u001b[38;5;124m\"\u001b[39m\u001b[38;5;124mUnalignable boolean Series provided as \u001b[39m\u001b[38;5;124m\"\u001b[39m\n\u001b[0;32m   2554\u001b[0m         \u001b[38;5;124m\"\u001b[39m\u001b[38;5;124mindexer (index of the boolean Series and of \u001b[39m\u001b[38;5;124m\"\u001b[39m\n\u001b[0;32m   2555\u001b[0m         \u001b[38;5;124m\"\u001b[39m\u001b[38;5;124mthe indexed object do not match).\u001b[39m\u001b[38;5;124m\"\u001b[39m\n\u001b[0;32m   2556\u001b[0m     )\n\u001b[0;32m   2558\u001b[0m result \u001b[38;5;241m=\u001b[39m result\u001b[38;5;241m.\u001b[39mtake(indexer)\n\u001b[0;32m   2560\u001b[0m \u001b[38;5;66;03m# fall through for boolean\u001b[39;00m\n",
      "\u001b[1;31mIndexingError\u001b[0m: Unalignable boolean Series provided as indexer (index of the boolean Series and of the indexed object do not match)."
     ]
    }
   ],
   "source": [
    "sb.countplot(data=df, x=df[df['NoShow'] == \"Yes\"][\"SMSReceived\"], color='black', alpha=0.7);"
   ]
  },
  {
   "cell_type": "code",
   "execution_count": null,
   "id": "738a1674",
   "metadata": {},
   "outputs": [],
   "source": [
    "Female = df.query(\"Gender == 'F' and NoShow == 'Yes'\")[\"Gender\"]\n",
    "Male = df.query(\"Gender == 'M' and NoShow == 'Yes'\")[\"Gender\"].iloc[0:1000]\n",
    "Sample_Female = Female.head(38687)"
   ]
  },
  {
   "cell_type": "code",
   "execution_count": null,
   "id": "a3414f6a",
   "metadata": {},
   "outputs": [],
   "source": [
    "sb.countplot(data=df, x=df[df[\"NoShow\"] == \"Yes\"][\"Gender\"]);"
   ]
  },
  {
   "cell_type": "code",
   "execution_count": null,
   "id": "f97f11af",
   "metadata": {},
   "outputs": [],
   "source": [
    "FF = df[(df[\"Gender\"] == \"F\") & (df[\"NoShow\"] == \"Yes\")][\"Gender\"].iloc[0:7724].count()"
   ]
  },
  {
   "cell_type": "code",
   "execution_count": null,
   "id": "0be6b688",
   "metadata": {},
   "outputs": [],
   "source": [
    "MM = df[(df[\"Gender\"] == \"M\") & (df[\"NoShow\"] == \"Yes\")][\"Gender\"].iloc[0:7724].count()"
   ]
  },
  {
   "cell_type": "code",
   "execution_count": null,
   "id": "c5c5fa71",
   "metadata": {},
   "outputs": [],
   "source": [
    "gen = df.Gender.value_counts().iloc[]\n",
    "gen"
   ]
  },
  {
   "cell_type": "code",
   "execution_count": null,
   "id": "9185a249",
   "metadata": {},
   "outputs": [],
   "source": []
  }
 ],
 "metadata": {
  "kernelspec": {
   "display_name": "Python 3 (ipykernel)",
   "language": "python",
   "name": "python3"
  },
  "language_info": {
   "codemirror_mode": {
    "name": "ipython",
    "version": 3
   },
   "file_extension": ".py",
   "mimetype": "text/x-python",
   "name": "python",
   "nbconvert_exporter": "python",
   "pygments_lexer": "ipython3",
   "version": "3.10.9"
  }
 },
 "nbformat": 4,
 "nbformat_minor": 5
}
